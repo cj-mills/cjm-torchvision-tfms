{
 "cells": [
  {
   "cell_type": "markdown",
   "metadata": {},
   "source": [
    "# Utilities\n",
    "\n",
    "> Utility functions and classes used by custom transforms."
   ]
  },
  {
   "cell_type": "code",
   "execution_count": null,
   "metadata": {},
   "outputs": [],
   "source": [
    "#| default_exp utils"
   ]
  },
  {
   "cell_type": "code",
   "execution_count": null,
   "metadata": {},
   "outputs": [],
   "source": [
    "#| hide\n",
    "from nbdev.showdoc import *"
   ]
  },
  {
   "cell_type": "code",
   "execution_count": null,
   "metadata": {},
   "outputs": [],
   "source": []
  },
  {
   "cell_type": "code",
   "execution_count": null,
   "metadata": {},
   "outputs": [],
   "source": [
    "#| export\n",
    "from typing import Tuple\n",
    "import numpy as np"
   ]
  },
  {
   "cell_type": "code",
   "execution_count": null,
   "metadata": {},
   "outputs": [],
   "source": []
  },
  {
   "cell_type": "code",
   "execution_count": null,
   "metadata": {},
   "outputs": [],
   "source": [
    "#| export\n",
    "def _find_largest_rectangle_coords(binary_mask: np.ndarray\n",
    "                                  ) -> Tuple[slice, slice]:\n",
    "    \"\"\"\n",
    "    Use a row-by-row 'largest rectangle in histogram' approach to find the largest\n",
    "    rectangle of True cells in a 2D binary numpy array.\n",
    "    \n",
    "    Returns:\n",
    "        (row_slice, col_slice) indicating the largest rectangle found.\n",
    "    \"\"\"\n",
    "    rows, cols = binary_mask.shape\n",
    "    heights = np.zeros((rows, cols), dtype=int)\n",
    "    \n",
    "    # Build up \"histogram\" heights for each column per row\n",
    "    for col_idx in range(cols):\n",
    "        for row_idx in range(rows):\n",
    "            if binary_mask[row_idx, col_idx]:\n",
    "                heights[row_idx, col_idx] = (\n",
    "                    heights[row_idx - 1, col_idx] + 1 if row_idx > 0 else 1\n",
    "                )\n",
    "\n",
    "    max_area = 0\n",
    "    best_rectangle = (slice(0, 1), slice(0, 1))  # A default small rectangle\n",
    "\n",
    "    # For each row, find the largest rectangle in histogram\n",
    "    for row_idx in range(rows):\n",
    "        current_area, (top, bottom, left, right) = _largest_rectangle_in_histogram(\n",
    "            heights[row_idx]\n",
    "        )\n",
    "        # current_area is for the single \"row\" histogram, but we must offset vertically\n",
    "        # by row_idx based on how tall the histogram is\n",
    "        if current_area > 0:\n",
    "            # bottom row is row_idx\n",
    "            # top row is row_idx - heights for the chosen rectangle + 1\n",
    "            # we need to figure out the actual top row from the histogram table\n",
    "            rect_height = heights[row_idx, left:right].min()\n",
    "            actual_top = row_idx - rect_height + 1\n",
    "            actual_bottom = row_idx + 1  # slices go one past the end\n",
    "            \n",
    "            if current_area > max_area:\n",
    "                max_area = current_area\n",
    "                best_rectangle = (\n",
    "                    slice(actual_top, actual_bottom),\n",
    "                    slice(left, right)\n",
    "                )\n",
    "\n",
    "    return best_rectangle"
   ]
  },
  {
   "cell_type": "code",
   "execution_count": null,
   "metadata": {},
   "outputs": [],
   "source": [
    "#| export\n",
    "def _largest_rectangle_in_histogram(row_heights: np.ndarray\n",
    "                                   ) -> Tuple[int, Tuple[int,int,int,int]]:\n",
    "    \"\"\"\n",
    "    Given a 1D array 'row_heights', returns the area of the largest rectangle in this\n",
    "    histogram plus the (top, bottom, left, right) indices.\n",
    "    \n",
    "    Note: In this context, 'top' and 'bottom' are placeholders, because the actual\n",
    "    vertical extent is determined later using the 2D 'heights' array.\n",
    "    \"\"\"\n",
    "    stack = []  # will hold (start_index, height)\n",
    "    max_area = 0\n",
    "    # (top, bottom, left, right) in histogram terms only\n",
    "    best_coords = (0, 0, 0, 0)\n",
    "\n",
    "    for idx in range(len(row_heights) + 1):\n",
    "        # height is 0 if beyond the last column, to flush out the stack\n",
    "        current_height = row_heights[idx] if idx < len(row_heights) else 0\n",
    "        start_index = idx\n",
    "\n",
    "        while stack and stack[-1][1] > current_height:\n",
    "            # Pop the stack\n",
    "            prev_index, prev_height = stack.pop()\n",
    "            area = prev_height * (idx - prev_index)\n",
    "            if area > max_area:\n",
    "                max_area = area\n",
    "                # left = prev_index, right = idx\n",
    "                best_coords = (0, prev_height, prev_index, idx)\n",
    "            start_index = prev_index\n",
    "\n",
    "        if current_height > 0:\n",
    "            stack.append((start_index, current_height))\n",
    "\n",
    "    return max_area, best_coords"
   ]
  },
  {
   "cell_type": "code",
   "execution_count": null,
   "metadata": {},
   "outputs": [],
   "source": []
  },
  {
   "cell_type": "code",
   "execution_count": null,
   "metadata": {},
   "outputs": [],
   "source": [
    "#| hide\n",
    "import nbdev; nbdev.nbdev_export()"
   ]
  }
 ],
 "metadata": {
  "kernelspec": {
   "display_name": "python3",
   "language": "python",
   "name": "python3"
  }
 },
 "nbformat": 4,
 "nbformat_minor": 4
}
